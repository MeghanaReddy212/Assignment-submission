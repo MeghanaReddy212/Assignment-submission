{
 "cells": [
  {
   "cell_type": "code",
   "execution_count": 9,
   "metadata": {},
   "outputs": [
    {
     "name": "stdout",
     "output_type": "stream",
     "text": [
      "What is your name? Meghana\n",
      "Good Luck !  Meghana\n",
      "Guess the characters\n",
      "_\n",
      "y\n",
      "e\n",
      "r\n",
      "a\n",
      "a\n",
      "Enter your character: syeraa\n",
      "s\n",
      "y\n",
      "e\n",
      "r\n",
      "a\n",
      "a\n",
      "Congratulation you won!!!\n",
      "Movie Name was: syeraa\n"
     ]
    }
   ],
   "source": [
    "import random\n",
    "\n",
    "name = input(\"What is your name? \")\n",
    "\n",
    "print(\"Good Luck ! \", name)\n",
    "\n",
    "movies = ['roy', 'conman', 'syeraa', 'provoge', 'tenet', 'player',  'renegade', 'bheem', 'ironman', 'geeks'] \n",
    "\n",
    "word = random.choice(movies)\n",
    "\n",
    "print(\"Guess the characters\")\n",
    "\n",
    "guesses = ''\n",
    "\n",
    "turns = 12\n",
    "\n",
    "\n",
    "while count>0:\n",
    "    fail = 0\n",
    "    for char in word:\n",
    "        if char in geuss:\n",
    "            print(char)\n",
    "        else:\n",
    "            print(\"_\")\n",
    "            fail+=1\n",
    "            \n",
    "            \n",
    "    if fail==0:\n",
    "        print(\"Congratulation you won!!!\")\n",
    "        print(\"Movie Name was:\",word)\n",
    "        break\n",
    "        \n",
    "    g = input(\"Enter your character: \")\n",
    "    geuss = geuss+g\n",
    "    \n",
    "    if g not in word:\n",
    "        count = count-1\n",
    "        print(\"Wrong Answer:(\")\n",
    "\n",
    "        print(\"You have \",count,\"more geusses\")"
   ]
  },
  {
   "cell_type": "code",
   "execution_count": null,
   "metadata": {},
   "outputs": [],
   "source": []
  }
 ],
 "metadata": {
  "kernelspec": {
   "display_name": "Python 3",
   "language": "python",
   "name": "python3"
  },
  "language_info": {
   "codemirror_mode": {
    "name": "ipython",
    "version": 3
   },
   "file_extension": ".py",
   "mimetype": "text/x-python",
   "name": "python",
   "nbconvert_exporter": "python",
   "pygments_lexer": "ipython3",
   "version": "3.8.5"
  }
 },
 "nbformat": 4,
 "nbformat_minor": 4
}
