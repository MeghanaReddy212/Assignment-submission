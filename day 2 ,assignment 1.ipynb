{
 "cells": [
  {
   "cell_type": "code",
   "execution_count": 10,
   "metadata": {},
   "outputs": [
    {
     "name": "stdout",
     "output_type": "stream",
     "text": [
      "enter the number:5\n",
      "result is: 0.26785714285714285\n"
     ]
    }
   ],
   "source": [
    "x=int(input(\"enter the number:\"))\n",
    "a=2*x+5\n",
    "b=x*x+5*x+6\n",
    "c=a/b\n",
    "print(\"result is:\",c)\n",
    "\n"
   ]
  },
  {
   "cell_type": "code",
   "execution_count": 13,
   "metadata": {},
   "outputs": [
    {
     "name": "stdout",
     "output_type": "stream",
     "text": [
      "enter the number:5\n",
      "result is : 2.4\n"
     ]
    }
   ],
   "source": [
    "x=int(input(\"enter the number:\"))\n",
    "a=x^2+5*x+6\n",
    "b=2*x+5\n",
    "c=a/b\n",
    "print(\"result is :\",c)\n",
    "\n",
    "\n",
    "\n"
   ]
  },
  {
   "cell_type": "code",
   "execution_count": 14,
   "metadata": {},
   "outputs": [
    {
     "name": "stdout",
     "output_type": "stream",
     "text": [
      "enter the number:5\n",
      "result is : -1.75\n"
     ]
    }
   ],
   "source": [
    "x=int(input(\"enter the number:\"))\n",
    "a=2*x-3\n",
    "b=x-9\n",
    "c=a/b\n",
    "print(\"result is :\",c)\n"
   ]
  },
  {
   "cell_type": "markdown",
   "metadata": {},
   "source": [
    "# nested while loop\n"
   ]
  },
  {
   "cell_type": "code",
   "execution_count": 15,
   "metadata": {},
   "outputs": [
    {
     "name": "stdout",
     "output_type": "stream",
     "text": [
      "Enter correct username and password combo to continue\n",
      "Enter username: meghana\n",
      "Enter password: cae\n",
      "Access denied. Try again.\n",
      "Enter username: meghana\n",
      "Enter password: c\n",
      "Access denied. Try again.\n",
      "Enter username: meghana\n",
      "Enter password: 4\n",
      "Access denied. Try again.\n",
      "Enter username: meghana\n",
      "Enter password: 5\n",
      "Access denied. Try again.\n",
      "Enter username: meghana\n",
      "Enter password: d\n",
      "Access denied. Try again.\n"
     ]
    }
   ],
   "source": [
    "print('Enter correct username and password combo to continue')\n",
    "count=0\n",
    "while count < 5:\n",
    "    username = input('Enter username: ')\n",
    "    password = input('Enter password: ')\n",
    "    if password=='caesar' and username=='meghana':\n",
    "        print('Access granted')\n",
    "        break\n",
    "    else:\n",
    "        print('Access denied. Try again.')\n",
    "        count += 1"
   ]
  },
  {
   "cell_type": "code",
   "execution_count": null,
   "metadata": {},
   "outputs": [],
   "source": []
  }
 ],
 "metadata": {
  "kernelspec": {
   "display_name": "Python 3",
   "language": "python",
   "name": "python3"
  },
  "language_info": {
   "codemirror_mode": {
    "name": "ipython",
    "version": 3
   },
   "file_extension": ".py",
   "mimetype": "text/x-python",
   "name": "python",
   "nbconvert_exporter": "python",
   "pygments_lexer": "ipython3",
   "version": "3.8.5"
  }
 },
 "nbformat": 4,
 "nbformat_minor": 4
}
